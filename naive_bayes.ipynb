{
  "nbformat": 4,
  "nbformat_minor": 0,
  "metadata": {
    "colab": {
      "name": " naive_bayes.ipynb",
      "provenance": [],
      "collapsed_sections": []
    },
    "kernelspec": {
      "name": "python3",
      "display_name": "Python 3"
    },
    "language_info": {
      "name": "python"
    }
  },
  "cells": [
    {
      "cell_type": "code",
      "metadata": {
        "id": "ai5Dp1DXP_ew"
      },
      "source": [
        "import numpy as np\n",
        "import matplotlib.pyplot as plt\n",
        "import pandas as pd\n"
      ],
      "execution_count": 30,
      "outputs": []
    },
    {
      "cell_type": "code",
      "metadata": {
        "id": "yUUeO4ArQp-c"
      },
      "source": [
        "dataset = pd.read_csv(\"Data Kesehatan.csv\")\n",
        "x = dataset.iloc[:, [2,3]].values\n",
        "y = dataset.iloc[:, -1].values"
      ],
      "execution_count": 32,
      "outputs": []
    },
    {
      "cell_type": "code",
      "metadata": {
        "id": "qr9BVYUikqEZ",
        "colab": {
          "base_uri": "https://localhost:8080/"
        },
        "outputId": "0b48b06a-eb9c-4571-f620-27d8230935c9"
      },
      "source": [
        "print(x)"
      ],
      "execution_count": 33,
      "outputs": [
        {
          "output_type": "stream",
          "text": [
            "[[    35  22000]\n",
            " [    35  39000]\n",
            " [    49  74000]\n",
            " [    39 134000]\n",
            " [    41  71000]\n",
            " [    58 101000]\n",
            " [    47  47000]\n",
            " [    55 130000]\n",
            " [    52 114000]\n",
            " [    40 142000]\n",
            " [    46  22000]\n",
            " [    48  96000]\n",
            " [    52 150000]\n",
            " [    59  42000]\n",
            " [    35  58000]\n",
            " [    47  43000]\n",
            " [    60 108000]\n",
            " [    49  65000]\n",
            " [    40  78000]\n",
            " [    46  96000]\n",
            " [    59 143000]\n",
            " [    41  80000]\n",
            " [    35  91000]\n",
            " [    37 144000]\n",
            " [    60 102000]\n",
            " [    35  60000]\n",
            " [    37  53000]\n",
            " [    36 126000]\n",
            " [    56 133000]\n",
            " [    40  72000]\n",
            " [    42  80000]\n",
            " [    35 147000]\n",
            " [    39  42000]\n",
            " [    40 107000]\n",
            " [    49  86000]\n",
            " [    38 112000]\n",
            " [    46  79000]\n",
            " [    40  57000]\n",
            " [    37  80000]\n",
            " [    46  82000]\n",
            " [    53 143000]\n",
            " [    42 149000]\n",
            " [    38  59000]\n",
            " [    50  88000]\n",
            " [    56 104000]\n",
            " [    41  72000]\n",
            " [    51 146000]\n",
            " [    35  50000]\n",
            " [    57 122000]\n",
            " [    41  52000]\n",
            " [    35  97000]\n",
            " [    44  39000]\n",
            " [    37  52000]\n",
            " [    48 134000]\n",
            " [    37 146000]\n",
            " [    50  44000]\n",
            " [    52  90000]\n",
            " [    41  72000]\n",
            " [    40  57000]\n",
            " [    58  95000]\n",
            " [    45 131000]\n",
            " [    35  77000]\n",
            " [    36 144000]\n",
            " [    55 125000]\n",
            " [    35  72000]\n",
            " [    48  90000]\n",
            " [    42 108000]\n",
            " [    40  75000]\n",
            " [    37  74000]\n",
            " [    47 144000]\n",
            " [    40  61000]\n",
            " [    43 133000]\n",
            " [    59  76000]\n",
            " [    60  42000]\n",
            " [    39 106000]\n",
            " [    57  26000]\n",
            " [    57  74000]\n",
            " [    38  71000]\n",
            " [    49  88000]\n",
            " [    52  38000]\n",
            " [    50  36000]\n",
            " [    59  88000]\n",
            " [    35  61000]\n",
            " [    37  70000]\n",
            " [    52  21000]\n",
            " [    48 141000]\n",
            " [    37  93000]\n",
            " [    37  62000]\n",
            " [    48 138000]\n",
            " [    41  79000]\n",
            " [    37  78000]\n",
            " [    39 134000]\n",
            " [    49  89000]\n",
            " [    55  39000]\n",
            " [    37  77000]\n",
            " [    35  57000]\n",
            " [    36  63000]\n",
            " [    42  73000]\n",
            " [    43 112000]\n",
            " [    45  79000]\n",
            " [    46 117000]\n",
            " [    58  38000]\n",
            " [    48  74000]\n",
            " [    37 137000]\n",
            " [    37  79000]\n",
            " [    40  60000]\n",
            " [    42  54000]\n",
            " [    51 134000]\n",
            " [    47 113000]\n",
            " [    36 125000]\n",
            " [    38  50000]\n",
            " [    42  70000]\n",
            " [    39  96000]\n",
            " [    38  50000]\n",
            " [    49 141000]\n",
            " [    39  79000]\n",
            " [    39  75000]\n",
            " [    54 104000]\n",
            " [    35  55000]\n",
            " [    45  32000]\n",
            " [    36  60000]\n",
            " [    52 138000]\n",
            " [    53  82000]\n",
            " [    41  52000]\n",
            " [    48  30000]\n",
            " [    48 131000]\n",
            " [    41  60000]\n",
            " [    41  72000]\n",
            " [    42  75000]\n",
            " [    36 118000]\n",
            " [    47 107000]\n",
            " [    38  51000]\n",
            " [    48 119000]\n",
            " [    42  65000]\n",
            " [    40  65000]\n",
            " [    57  60000]\n",
            " [    36  54000]\n",
            " [    58 144000]\n",
            " [    35  79000]\n",
            " [    38  55000]\n",
            " [    39 122000]\n",
            " [    53 104000]\n",
            " [    35  75000]\n",
            " [    38  65000]\n",
            " [    47  51000]\n",
            " [    47 105000]\n",
            " [    41  63000]\n",
            " [    53  72000]\n",
            " [    54 108000]\n",
            " [    39  77000]\n",
            " [    38  61000]\n",
            " [    38 113000]\n",
            " [    37  75000]\n",
            " [    42  90000]\n",
            " [    37  57000]\n",
            " [    36  99000]\n",
            " [    60  34000]\n",
            " [    54  70000]\n",
            " [    41  72000]\n",
            " [    40  71000]\n",
            " [    42  54000]\n",
            " [    43 129000]\n",
            " [    53  34000]\n",
            " [    47  50000]\n",
            " [    42  79000]\n",
            " [    42 104000]\n",
            " [    59  29000]\n",
            " [    58  47000]\n",
            " [    46  88000]\n",
            " [    38  71000]\n",
            " [    54  26000]\n",
            " [    60  46000]\n",
            " [    60  83000]\n",
            " [    39  73000]\n",
            " [    59 130000]\n",
            " [    37  80000]\n",
            " [    46  32000]\n",
            " [    46  74000]\n",
            " [    42  53000]\n",
            " [    41  87000]\n",
            " [    58  23000]\n",
            " [    42  64000]\n",
            " [    48  33000]\n",
            " [    44 139000]\n",
            " [    49  28000]\n",
            " [    57  33000]\n",
            " [    56  60000]\n",
            " [    49  39000]\n",
            " [    39  71000]\n",
            " [    47  34000]\n",
            " [    48  35000]\n",
            " [    48  33000]\n",
            " [    47  23000]\n",
            " [    45  45000]\n",
            " [    60  42000]\n",
            " [    39  59000]\n",
            " [    46  41000]\n",
            " [    51  23000]\n",
            " [    50  20000]\n",
            " [    36  33000]\n",
            " [    49  36000]]\n"
          ],
          "name": "stdout"
        }
      ]
    },
    {
      "cell_type": "code",
      "metadata": {
        "colab": {
          "base_uri": "https://localhost:8080/"
        },
        "id": "CZMD2H_gRUaJ",
        "outputId": "325ef028-4329-467a-e41b-d13281fd8acf"
      },
      "source": [
        "print(y)"
      ],
      "execution_count": 34,
      "outputs": [
        {
          "output_type": "stream",
          "text": [
            "[0 0 0 1 0 1 0 1 0 1 0 1 1 0 0 0 1 0 0 0 1 0 1 1 1 0 0 1 1 0 1 1 0 1 1 0 1\n",
            " 0 0 0 1 1 0 1 1 0 1 0 1 0 1 0 0 1 1 0 1 0 0 1 1 0 1 1 0 1 1 0 0 1 0 0 1 1\n",
            " 1 1 1 0 1 1 1 1 0 1 1 0 1 0 1 0 1 1 1 1 0 0 0 1 1 0 1 1 1 1 1 0 0 0 1 1 0\n",
            " 0 1 0 1 0 1 1 0 1 0 1 1 0 1 1 0 0 0 1 1 0 1 0 0 1 0 1 0 0 1 1 0 0 1 1 0 1\n",
            " 1 0 0 1 0 1 0 1 1 1 0 1 0 1 1 1 0 1 1 1 1 0 1 1 1 0 1 0 1 0 0 1 1 0 1 1 1\n",
            " 1 1 1 0 1 1 1 1 1 1 0 1 1 1 0 1]\n"
          ],
          "name": "stdout"
        }
      ]
    },
    {
      "cell_type": "code",
      "metadata": {
        "id": "Kh3VLeDaRWwl"
      },
      "source": [
        "from sklearn.model_selection import train_test_split\n",
        "x_train, x_test, y_train, y_test = train_test_split(x,y,test_size=0.25,random_state=0)"
      ],
      "execution_count": 36,
      "outputs": []
    },
    {
      "cell_type": "code",
      "metadata": {
        "id": "Rvu6kA_OjPG0",
        "colab": {
          "base_uri": "https://localhost:8080/"
        },
        "outputId": "151fe982-c194-4d11-e1cb-8b8dc8d229b0"
      },
      "source": [
        "print(x_train)"
      ],
      "execution_count": 37,
      "outputs": [
        {
          "output_type": "stream",
          "text": [
            "[[    48  30000]\n",
            " [    49  28000]\n",
            " [    42  73000]\n",
            " [    39  77000]\n",
            " [    60 102000]\n",
            " [    42  80000]\n",
            " [    42  54000]\n",
            " [    53 143000]\n",
            " [    52  90000]\n",
            " [    38  51000]\n",
            " [    36  63000]\n",
            " [    42  64000]\n",
            " [    46  96000]\n",
            " [    42  90000]\n",
            " [    49  89000]\n",
            " [    37 146000]\n",
            " [    47  50000]\n",
            " [    44  39000]\n",
            " [    37  93000]\n",
            " [    38  55000]\n",
            " [    37  78000]\n",
            " [    58 144000]\n",
            " [    58  38000]\n",
            " [    47  51000]\n",
            " [    41  79000]\n",
            " [    36 125000]\n",
            " [    35  58000]\n",
            " [    36 126000]\n",
            " [    53 104000]\n",
            " [    49  39000]\n",
            " [    51 146000]\n",
            " [    35  79000]\n",
            " [    46  41000]\n",
            " [    47 113000]\n",
            " [    36 144000]\n",
            " [    49  74000]\n",
            " [    58  95000]\n",
            " [    36  54000]\n",
            " [    50  20000]\n",
            " [    50  88000]\n",
            " [    46  22000]\n",
            " [    60  42000]\n",
            " [    60  42000]\n",
            " [    51  23000]\n",
            " [    42  53000]\n",
            " [    37  80000]\n",
            " [    41  60000]\n",
            " [    55  39000]\n",
            " [    39  96000]\n",
            " [    41  72000]\n",
            " [    48  33000]\n",
            " [    35  97000]\n",
            " [    35  22000]\n",
            " [    37  77000]\n",
            " [    38  50000]\n",
            " [    35  57000]\n",
            " [    35  72000]\n",
            " [    58  47000]\n",
            " [    42 149000]\n",
            " [    47 144000]\n",
            " [    41  52000]\n",
            " [    57 122000]\n",
            " [    48 141000]\n",
            " [    59  42000]\n",
            " [    43 129000]\n",
            " [    37 144000]\n",
            " [    56  60000]\n",
            " [    57  60000]\n",
            " [    59 143000]\n",
            " [    47  43000]\n",
            " [    49  88000]\n",
            " [    37  79000]\n",
            " [    37  52000]\n",
            " [    46 117000]\n",
            " [    57  74000]\n",
            " [    39 134000]\n",
            " [    39  75000]\n",
            " [    42  79000]\n",
            " [    36  33000]\n",
            " [    47  47000]\n",
            " [    37  74000]\n",
            " [    52  21000]\n",
            " [    52 138000]\n",
            " [    36  99000]\n",
            " [    60  46000]\n",
            " [    60  34000]\n",
            " [    39 134000]\n",
            " [    49  36000]\n",
            " [    48  96000]\n",
            " [    45  32000]\n",
            " [    48  74000]\n",
            " [    38 112000]\n",
            " [    41  72000]\n",
            " [    48  90000]\n",
            " [    35  39000]\n",
            " [    36  60000]\n",
            " [    53  34000]\n",
            " [    38  59000]\n",
            " [    40  60000]\n",
            " [    48 119000]\n",
            " [    39  73000]\n",
            " [    49  65000]\n",
            " [    37  80000]\n",
            " [    42  65000]\n",
            " [    48 134000]\n",
            " [    54  70000]\n",
            " [    42  75000]\n",
            " [    49  86000]\n",
            " [    56 133000]\n",
            " [    49 141000]\n",
            " [    38 113000]\n",
            " [    35 147000]\n",
            " [    59  29000]\n",
            " [    41  72000]\n",
            " [    46  32000]\n",
            " [    39  42000]\n",
            " [    35  75000]\n",
            " [    38  71000]\n",
            " [    53  72000]\n",
            " [    40  72000]\n",
            " [    45  79000]\n",
            " [    35  61000]\n",
            " [    52  38000]\n",
            " [    39  79000]\n",
            " [    54 108000]\n",
            " [    45  45000]\n",
            " [    59  76000]\n",
            " [    38  71000]\n",
            " [    35  60000]\n",
            " [    42 104000]\n",
            " [    59  88000]\n",
            " [    39  71000]\n",
            " [    59 130000]\n",
            " [    48  35000]\n",
            " [    46  82000]\n",
            " [    40  57000]\n",
            " [    39 122000]\n",
            " [    48 138000]\n",
            " [    40  61000]\n",
            " [    37  62000]\n",
            " [    46  79000]\n",
            " [    41  80000]\n",
            " [    40 142000]\n",
            " [    37 137000]\n",
            " [    39  59000]\n",
            " [    40  75000]\n",
            " [    47  23000]\n",
            " [    54 104000]\n",
            " [    35  50000]\n",
            " [    60  83000]]\n"
          ],
          "name": "stdout"
        }
      ]
    },
    {
      "cell_type": "code",
      "metadata": {
        "id": "V8h535uokAAZ",
        "colab": {
          "base_uri": "https://localhost:8080/"
        },
        "outputId": "8e4f8a33-4580-4fea-d71f-945386780698"
      },
      "source": [
        "print(x_test)"
      ],
      "execution_count": 38,
      "outputs": [
        {
          "output_type": "stream",
          "text": [
            "[[    40  78000]\n",
            " [    54  26000]\n",
            " [    51 134000]\n",
            " [    43 112000]\n",
            " [    46  74000]\n",
            " [    48  33000]\n",
            " [    58 101000]\n",
            " [    41  63000]\n",
            " [    52 150000]\n",
            " [    37  75000]\n",
            " [    35  77000]\n",
            " [    48 131000]\n",
            " [    58  23000]\n",
            " [    37  57000]\n",
            " [    50  36000]\n",
            " [    55 130000]\n",
            " [    40 107000]\n",
            " [    47 107000]\n",
            " [    40  57000]\n",
            " [    39 106000]\n",
            " [    44 139000]\n",
            " [    47 105000]\n",
            " [    41  72000]\n",
            " [    40  71000]\n",
            " [    45 131000]\n",
            " [    41  52000]\n",
            " [    41  87000]\n",
            " [    57  33000]\n",
            " [    53  82000]\n",
            " [    56 104000]\n",
            " [    60 108000]\n",
            " [    50  44000]\n",
            " [    38  61000]\n",
            " [    42  70000]\n",
            " [    35  91000]\n",
            " [    47  34000]\n",
            " [    36 118000]\n",
            " [    41  71000]\n",
            " [    37  70000]\n",
            " [    42  54000]\n",
            " [    40  65000]\n",
            " [    42 108000]\n",
            " [    37  53000]\n",
            " [    38  50000]\n",
            " [    46  88000]\n",
            " [    55 125000]\n",
            " [    52 114000]\n",
            " [    57  26000]\n",
            " [    35  55000]\n",
            " [    38  65000]\n",
            " [    43 133000]]\n"
          ],
          "name": "stdout"
        }
      ]
    },
    {
      "cell_type": "code",
      "metadata": {
        "colab": {
          "base_uri": "https://localhost:8080/"
        },
        "id": "IOH34VEKkD60",
        "outputId": "839dcfd5-626f-4518-d4f2-c798017d6d6d"
      },
      "source": [
        "print(y_train)"
      ],
      "execution_count": 39,
      "outputs": [
        {
          "output_type": "stream",
          "text": [
            "[1 1 1 0 1 1 0 1 1 0 0 0 0 1 1 1 1 0 1 0 1 1 1 1 0 1 0 1 1 1 1 0 1 1 1 0 1\n",
            " 0 1 1 0 1 1 1 0 0 0 1 1 0 1 1 0 0 0 0 0 1 1 1 0 1 0 0 1 1 1 1 1 0 1 1 0 1\n",
            " 1 1 1 0 0 0 0 1 1 1 1 1 1 1 1 1 1 0 0 1 0 0 1 0 0 1 0 0 0 0 1 1 0 1 1 1 1\n",
            " 1 1 0 1 0 0 0 1 0 0 0 1 0 1 1 1 0 0 1 1 0 1 1 0 0 1 1 0 0 1 0 1 1 0 0 1 1\n",
            " 0 1]\n"
          ],
          "name": "stdout"
        }
      ]
    },
    {
      "cell_type": "code",
      "metadata": {
        "colab": {
          "base_uri": "https://localhost:8080/"
        },
        "id": "oF-KptTSkG4v",
        "outputId": "30e63b36-2a12-4f65-b46b-45965532fe85"
      },
      "source": [
        "print(y_test)"
      ],
      "execution_count": 40,
      "outputs": [
        {
          "output_type": "stream",
          "text": [
            "[0 1 0 1 0 1 1 0 1 0 0 1 1 0 1 1 1 1 0 1 1 1 0 1 1 0 1 1 1 1 1 0 0 0 1 1 1\n",
            " 0 1 0 0 1 0 0 1 1 0 1 0 0 0]\n"
          ],
          "name": "stdout"
        }
      ]
    },
    {
      "cell_type": "code",
      "metadata": {
        "id": "VuxjbGH2kJPA"
      },
      "source": [
        "from sklearn.preprocessing import StandardScaler\n",
        "sc = StandardScaler()\n",
        "x_train = sc.fit_transform(x_train)\n",
        "x_test = sc.transform(x_test)\n"
      ],
      "execution_count": 41,
      "outputs": []
    },
    {
      "cell_type": "code",
      "metadata": {
        "id": "bMe7i6VPkm-F",
        "colab": {
          "base_uri": "https://localhost:8080/"
        },
        "outputId": "e6ccbbed-0e0e-4937-96c6-eadc2144f64c"
      },
      "source": [
        "print(x_train)"
      ],
      "execution_count": 42,
      "outputs": [
        {
          "output_type": "stream",
          "text": [
            "[[ 0.40315769 -1.36597982]\n",
            " [ 0.53348884 -1.42309396]\n",
            " [-0.37882921 -0.13802584]\n",
            " [-0.76982266 -0.02379756]\n",
            " [ 1.96713149  0.69012918]\n",
            " [-0.37882921  0.06187365]\n",
            " [-0.37882921 -0.68061016]\n",
            " [ 1.05481344  1.86096903]\n",
            " [ 0.92448229  0.34744435]\n",
            " [-0.90015381 -0.76628136]\n",
            " [-1.16081611 -0.42359653]\n",
            " [-0.37882921 -0.39503946]\n",
            " [ 0.14249539  0.51878676]\n",
            " [-0.37882921  0.34744435]\n",
            " [ 0.53348884  0.31888728]\n",
            " [-1.03048496  1.94664024]\n",
            " [ 0.27282654 -0.79483843]\n",
            " [-0.11816691 -1.1089662 ]\n",
            " [-1.03048496  0.43311555]\n",
            " [-0.90015381 -0.65205309]\n",
            " [-1.03048496  0.00475951]\n",
            " [ 1.70646919  1.8895261 ]\n",
            " [ 1.70646919 -1.13752327]\n",
            " [ 0.27282654 -0.76628136]\n",
            " [-0.50916036  0.03331658]\n",
            " [-1.16081611  1.34694178]\n",
            " [-1.29114726 -0.56638188]\n",
            " [-1.16081611  1.37549885]\n",
            " [ 1.05481344  0.74724332]\n",
            " [ 0.53348884 -1.1089662 ]\n",
            " [ 0.79415114  1.94664024]\n",
            " [-1.29114726  0.03331658]\n",
            " [ 0.14249539 -1.05185206]\n",
            " [ 0.27282654  1.00425694]\n",
            " [-1.16081611  1.8895261 ]\n",
            " [ 0.53348884 -0.10946877]\n",
            " [ 1.70646919  0.49022969]\n",
            " [-1.16081611 -0.68061016]\n",
            " [ 0.66381999 -1.65155052]\n",
            " [ 0.66381999  0.29033021]\n",
            " [ 0.14249539 -1.59443638]\n",
            " [ 1.96713149 -1.02329499]\n",
            " [ 1.96713149 -1.02329499]\n",
            " [ 0.79415114 -1.56587931]\n",
            " [-0.37882921 -0.70916723]\n",
            " [-1.03048496  0.06187365]\n",
            " [-0.50916036 -0.50926774]\n",
            " [ 1.31547574 -1.1089662 ]\n",
            " [-0.76982266  0.51878676]\n",
            " [-0.50916036 -0.16658291]\n",
            " [ 0.40315769 -1.28030861]\n",
            " [-1.29114726  0.54734383]\n",
            " [-1.29114726 -1.59443638]\n",
            " [-1.03048496 -0.02379756]\n",
            " [-0.90015381 -0.79483843]\n",
            " [-1.29114726 -0.59493895]\n",
            " [-1.29114726 -0.16658291]\n",
            " [ 1.70646919 -0.88050964]\n",
            " [-0.37882921  2.03231144]\n",
            " [ 0.27282654  1.8895261 ]\n",
            " [-0.50916036 -0.73772429]\n",
            " [ 1.57613804  1.26127057]\n",
            " [ 0.40315769  1.80385489]\n",
            " [ 1.83680034 -1.02329499]\n",
            " [-0.24849806  1.46117005]\n",
            " [-1.03048496  1.8895261 ]\n",
            " [ 1.44580689 -0.50926774]\n",
            " [ 1.57613804 -0.50926774]\n",
            " [ 1.83680034  1.86096903]\n",
            " [ 0.27282654 -0.99473792]\n",
            " [ 0.53348884  0.29033021]\n",
            " [-1.03048496  0.03331658]\n",
            " [-1.03048496 -0.73772429]\n",
            " [ 0.14249539  1.11848522]\n",
            " [ 1.57613804 -0.10946877]\n",
            " [-0.76982266  1.6039554 ]\n",
            " [-0.76982266 -0.0809117 ]\n",
            " [-0.37882921  0.03331658]\n",
            " [-1.16081611 -1.28030861]\n",
            " [ 0.27282654 -0.88050964]\n",
            " [-1.03048496 -0.10946877]\n",
            " [ 0.92448229 -1.62299345]\n",
            " [ 0.92448229  1.71818368]\n",
            " [-1.16081611  0.60445797]\n",
            " [ 1.96713149 -0.90906671]\n",
            " [ 1.96713149 -1.25175154]\n",
            " [-0.76982266  1.6039554 ]\n",
            " [ 0.53348884 -1.19463741]\n",
            " [ 0.40315769  0.51878676]\n",
            " [ 0.01216424 -1.30886568]\n",
            " [ 0.40315769 -0.10946877]\n",
            " [-0.90015381  0.97569987]\n",
            " [-0.50916036 -0.16658291]\n",
            " [ 0.40315769  0.34744435]\n",
            " [-1.29114726 -1.1089662 ]\n",
            " [-1.16081611 -0.50926774]\n",
            " [ 1.05481344 -1.25175154]\n",
            " [-0.90015381 -0.53782481]\n",
            " [-0.63949151 -0.50926774]\n",
            " [ 0.40315769  1.17559936]\n",
            " [-0.76982266 -0.13802584]\n",
            " [ 0.53348884 -0.36648239]\n",
            " [-1.03048496  0.06187365]\n",
            " [-0.37882921 -0.36648239]\n",
            " [ 0.40315769  1.6039554 ]\n",
            " [ 1.18514459 -0.22369704]\n",
            " [-0.37882921 -0.0809117 ]\n",
            " [ 0.53348884  0.23321607]\n",
            " [ 1.44580689  1.57539833]\n",
            " [ 0.53348884  1.80385489]\n",
            " [-0.90015381  1.00425694]\n",
            " [-1.29114726  1.9751973 ]\n",
            " [ 1.83680034 -1.39453689]\n",
            " [-0.50916036 -0.16658291]\n",
            " [ 0.14249539 -1.30886568]\n",
            " [-0.76982266 -1.02329499]\n",
            " [-1.29114726 -0.0809117 ]\n",
            " [-0.90015381 -0.19513997]\n",
            " [ 1.05481344 -0.16658291]\n",
            " [-0.63949151 -0.16658291]\n",
            " [ 0.01216424  0.03331658]\n",
            " [-1.29114726 -0.48071067]\n",
            " [ 0.92448229 -1.13752327]\n",
            " [-0.76982266  0.03331658]\n",
            " [ 1.18514459  0.8614716 ]\n",
            " [ 0.01216424 -0.93762378]\n",
            " [ 1.83680034 -0.05235463]\n",
            " [-0.90015381 -0.19513997]\n",
            " [-1.29114726 -0.50926774]\n",
            " [-0.37882921  0.74724332]\n",
            " [ 1.83680034  0.29033021]\n",
            " [-0.76982266 -0.19513997]\n",
            " [ 1.83680034  1.48972712]\n",
            " [ 0.40315769 -1.22319448]\n",
            " [ 0.14249539  0.11898779]\n",
            " [-0.63949151 -0.59493895]\n",
            " [-0.76982266  1.26127057]\n",
            " [ 0.40315769  1.71818368]\n",
            " [-0.63949151 -0.48071067]\n",
            " [-1.03048496 -0.4521536 ]\n",
            " [ 0.14249539  0.03331658]\n",
            " [-0.50916036  0.06187365]\n",
            " [-0.63949151  1.83241196]\n",
            " [-1.03048496  1.68962661]\n",
            " [-0.76982266 -0.53782481]\n",
            " [-0.63949151 -0.0809117 ]\n",
            " [ 0.27282654 -1.56587931]\n",
            " [ 1.18514459  0.74724332]\n",
            " [-1.29114726 -0.79483843]\n",
            " [ 1.96713149  0.14754486]]\n"
          ],
          "name": "stdout"
        }
      ]
    },
    {
      "cell_type": "code",
      "metadata": {
        "colab": {
          "base_uri": "https://localhost:8080/"
        },
        "id": "UTCySMZIRFFn",
        "outputId": "11f70cfd-6024-48bb-9975-642c4cdab927"
      },
      "source": [
        "print(x_test)"
      ],
      "execution_count": 43,
      "outputs": [
        {
          "output_type": "stream",
          "text": [
            "[[-0.63949151  0.00475951]\n",
            " [ 1.18514459 -1.4802081 ]\n",
            " [ 0.79415114  1.6039554 ]\n",
            " [-0.24849806  0.97569987]\n",
            " [ 0.14249539 -0.10946877]\n",
            " [ 0.40315769 -1.28030861]\n",
            " [ 1.70646919  0.66157211]\n",
            " [-0.50916036 -0.42359653]\n",
            " [ 0.92448229  2.06086851]\n",
            " [-1.03048496 -0.0809117 ]\n",
            " [-1.29114726 -0.02379756]\n",
            " [ 0.40315769  1.51828419]\n",
            " [ 1.70646919 -1.56587931]\n",
            " [-1.03048496 -0.59493895]\n",
            " [ 0.66381999 -1.19463741]\n",
            " [ 1.31547574  1.48972712]\n",
            " [-0.63949151  0.83291453]\n",
            " [ 0.27282654  0.83291453]\n",
            " [-0.63949151 -0.59493895]\n",
            " [-0.76982266  0.80435746]\n",
            " [-0.11816691  1.74674075]\n",
            " [ 0.27282654  0.77580039]\n",
            " [-0.50916036 -0.16658291]\n",
            " [-0.63949151 -0.19513997]\n",
            " [ 0.01216424  1.51828419]\n",
            " [-0.50916036 -0.73772429]\n",
            " [-0.50916036  0.26177314]\n",
            " [ 1.57613804 -1.28030861]\n",
            " [ 1.05481344  0.11898779]\n",
            " [ 1.44580689  0.74724332]\n",
            " [ 1.96713149  0.8614716 ]\n",
            " [ 0.66381999 -0.96618085]\n",
            " [-0.90015381 -0.48071067]\n",
            " [-0.37882921 -0.22369704]\n",
            " [-1.29114726  0.37600141]\n",
            " [ 0.27282654 -1.25175154]\n",
            " [-1.16081611  1.14704229]\n",
            " [-0.50916036 -0.19513997]\n",
            " [-1.03048496 -0.22369704]\n",
            " [-0.37882921 -0.68061016]\n",
            " [-0.63949151 -0.36648239]\n",
            " [-0.37882921  0.8614716 ]\n",
            " [-1.03048496 -0.70916723]\n",
            " [-0.90015381 -0.79483843]\n",
            " [ 0.14249539  0.29033021]\n",
            " [ 1.31547574  1.34694178]\n",
            " [ 0.92448229  1.03281401]\n",
            " [ 1.57613804 -1.4802081 ]\n",
            " [-1.29114726 -0.65205309]\n",
            " [-0.90015381 -0.36648239]\n",
            " [-0.24849806  1.57539833]]\n"
          ],
          "name": "stdout"
        }
      ]
    },
    {
      "cell_type": "code",
      "metadata": {
        "colab": {
          "base_uri": "https://localhost:8080/"
        },
        "id": "UY5XMlBOlVBq",
        "outputId": "dc070596-634f-4e3c-9fd7-757808825394"
      },
      "source": [
        "from sklearn.naive_bayes import  GaussianNB\n",
        "classifier = GaussianNB()\n",
        "classifier.fit(x_train, y_train)\n"
      ],
      "execution_count": 44,
      "outputs": [
        {
          "output_type": "execute_result",
          "data": {
            "text/plain": [
              "GaussianNB(priors=None, var_smoothing=1e-09)"
            ]
          },
          "metadata": {
            "tags": []
          },
          "execution_count": 44
        }
      ]
    },
    {
      "cell_type": "code",
      "metadata": {
        "id": "So2gcpkAlmF-"
      },
      "source": [
        "y_pred = classifier.predict(x_test)\n"
      ],
      "execution_count": 45,
      "outputs": []
    },
    {
      "cell_type": "code",
      "metadata": {
        "colab": {
          "base_uri": "https://localhost:8080/"
        },
        "id": "dzD6w7izlz25",
        "outputId": "d4b99555-289a-44d1-e915-ac6a2126db20"
      },
      "source": [
        "from sklearn.metrics import confusion_matrix\n",
        "cm = confusion_matrix(y_test, y_pred)\n",
        "print(cm)"
      ],
      "execution_count": 46,
      "outputs": [
        {
          "output_type": "stream",
          "text": [
            "[[18  4]\n",
            " [ 4 25]]\n"
          ],
          "name": "stdout"
        }
      ]
    },
    {
      "cell_type": "code",
      "metadata": {
        "colab": {
          "base_uri": "https://localhost:8080/",
          "height": 351
        },
        "id": "8VvZwZ8MmMF3",
        "outputId": "d977cd58-8254-4c49-c1c5-e245cdf43477"
      },
      "source": [
        "from matplotlib.colors import ListedColormap\n",
        "x_set, y_set = x_train, y_train\n",
        "x1, x2 = np.meshgrid(np.arange(start = x_set[:, 0].min()-1, stop = x_set[:, 0].max() + 1, step=0.01),\n",
        "                     np.arange(start = x_set[:, 1].min()-1, stop = x_set[:, 0].max() + 1, step=0.01))\n",
        "plt.contourf(x1,x2, classifier.predict(np.array([x1.ravel(), x2.ravel()]).T).reshape(x1.shape),\n",
        "             alpha = 0.75, cmap= ListedColormap(('red', 'green')))\n",
        "plt.xlim(x1.min(), x1.max())\n",
        "plt.ylim(x2.min(), x2.max())\n",
        "for i, j in enumerate (np.unique(y_set)):\n",
        "  plt.scatter(x_set[y_set == j, 0], x_set[y_set==j, 1],\n",
        "              c = ListedColormap(('red', 'green'))(i), label = j)\n",
        "plt.title('Klasifikasi Data dengan Native Bayes (Data Training)')\n",
        "plt.xlabel('Umur')\n",
        "plt.ylabel('Estimasi Kesehatan')\n",
        "plt.legend()\n",
        "plt.show()"
      ],
      "execution_count": 48,
      "outputs": [
        {
          "output_type": "stream",
          "text": [
            "*c* argument looks like a single numeric RGB or RGBA sequence, which should be avoided as value-mapping will have precedence in case its length matches with *x* & *y*.  Please use the *color* keyword-argument or provide a 2-D array with a single row if you intend to specify the same RGB or RGBA value for all points.\n",
            "*c* argument looks like a single numeric RGB or RGBA sequence, which should be avoided as value-mapping will have precedence in case its length matches with *x* & *y*.  Please use the *color* keyword-argument or provide a 2-D array with a single row if you intend to specify the same RGB or RGBA value for all points.\n"
          ],
          "name": "stderr"
        },
        {
          "output_type": "display_data",
          "data": {
            "image/png": "[encoded data removed]",
            "text/plain": [
              "<Figure size 432x288 with 1 Axes>"
            ]
          },
          "metadata": {
            "tags": [],
            "needs_background": "light"
          }
        }
      ]
    },
    {
      "cell_type": "code",
      "metadata": {
        "colab": {
          "base_uri": "https://localhost:8080/",
          "height": 351
        },
        "id": "WOelIM8It42q",
        "outputId": "215b56d5-2a8d-4cda-df03-25cfbd8f1019"
      },
      "source": [
        "from matplotlib.colors import ListedColormap\n",
        "x_set, y_set = x_test, y_test\n",
        "x1, x2 = np.meshgrid(np.arange(start = x_set[:, 0].min()-1, stop = x_set[:, 0].max() + 1, step=0.01),\n",
        "                     np.arange(start = x_set[:, 1].min()-1, stop = x_set[:, 0].max() + 1, step=0.01))\n",
        "plt.contourf(x1,x2, classifier.predict(np.array([x1.ravel(), x2.ravel()]).T).reshape(x1.shape),\n",
        "             alpha = 0.75, cmap= ListedColormap(('red', 'green')))\n",
        "plt.xlim(x1.min(), x1.max())\n",
        "plt.ylim(x2.min(), x2.max())\n",
        "for i, j in enumerate (np.unique(y_set)):\n",
        "  plt.scatter(x_set[y_set == j, 0], x_set[y_set==j, 1],\n",
        "              c = ListedColormap(('red', 'green'))(i), label = j)\n",
        "plt.title('Klasifikasi Data dengan Native Bayes (Data Testing)')\n",
        "plt.xlabel('Umur')\n",
        "plt.ylabel('Estimasi Kesehatan')\n",
        "plt.legend()\n",
        "plt.show()"
      ],
      "execution_count": 50,
      "outputs": [
        {
          "output_type": "stream",
          "text": [
            "*c* argument looks like a single numeric RGB or RGBA sequence, which should be avoided as value-mapping will have precedence in case its length matches with *x* & *y*.  Please use the *color* keyword-argument or provide a 2-D array with a single row if you intend to specify the same RGB or RGBA value for all points.\n",
            "*c* argument looks like a single numeric RGB or RGBA sequence, which should be avoided as value-mapping will have precedence in case its length matches with *x* & *y*.  Please use the *color* keyword-argument or provide a 2-D array with a single row if you intend to specify the same RGB or RGBA value for all points.\n"
          ],
          "name": "stderr"
        },
        {
          "output_type": "display_data",
          "data": {
            "image/png": "[encoded data removed]",
            "text/plain": [
              "<Figure size 432x288 with 1 Axes>"
            ]
          },
          "metadata": {
            "tags": [],
            "needs_background": "light"
          }
        }
      ]
    }
  ]
}